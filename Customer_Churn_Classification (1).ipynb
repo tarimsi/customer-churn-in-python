{
  "cells": [
    {
      "cell_type": "code",
      "execution_count": null,
      "metadata": {
        "id": "PHPvtKY6HMVd"
      },
      "outputs": [],
      "source": [
        "import numpy as np\n",
        "import pandas as pd\n",
        "\n",
        "from matplotlib import pyplot as plt\n",
        "\n",
        "from sklearn.model_selection import train_test_split\n",
        "\n",
        "from tensorflow.keras import Sequential\n",
        "from tensorflow.keras.layers import Dense\n",
        "from tensorflow.keras.models import load_model"
      ]
    },
    {
      "cell_type": "markdown",
      "metadata": {
        "id": "KKzBghPlHMVe"
      },
      "source": [
        "## Import the data into Pandas data frame"
      ]
    },
    {
      "cell_type": "code",
      "execution_count": null,
      "metadata": {
        "id": "eELiIS8nHMVk"
      },
      "outputs": [],
      "source": [
        "data = pd.read_csv('Telco-Customer-Churn.csv')"
      ]
    },
    {
      "cell_type": "code",
      "execution_count": null,
      "metadata": {
        "id": "9Gja1RjIHMVk"
      },
      "outputs": [],
      "source": [
        "data.head()"
      ]
    },
    {
      "cell_type": "code",
      "execution_count": null,
      "metadata": {
        "id": "ibfmOuN4HMVk"
      },
      "outputs": [],
      "source": [
        "data.info()"
      ]
    },
    {
      "cell_type": "markdown",
      "metadata": {
        "id": "ps3xk7kaHMVk"
      },
      "source": [
        "## Data Cleansing\n",
        "Senior Citizen column has two values, Yes and No but here it’s 1 and 0 and column is a int64 type. Let’s fix that. first we need to replace 1s and 0s with Yes and No:"
      ]
    },
    {
      "cell_type": "code",
      "execution_count": null,
      "metadata": {
        "id": "QB79qzRTHMVl"
      },
      "outputs": [],
      "source": [
        "data.SeniorCitizen.replace([0, 1], [\"No\", \"Yes\"], inplace= True)"
      ]
    },
    {
      "cell_type": "markdown",
      "metadata": {
        "id": "JUPPVY8VHMVl"
      },
      "source": [
        "TotalCharges column should be numerical."
      ]
    },
    {
      "cell_type": "code",
      "execution_count": null,
      "metadata": {
        "id": "n9i4Wt_3HMVl"
      },
      "outputs": [],
      "source": [
        "data.TotalCharges = data.TotalCharges.astype(float)"
      ]
    },
    {
      "cell_type": "code",
      "execution_count": null,
      "metadata": {
        "id": "Dmijct-QHMVl"
      },
      "outputs": [],
      "source": [
        "for charge in data.TotalCharges:\n",
        "    try:\n",
        "        charge = float(charge)\n",
        "    except:\n",
        "        print(\"charge is: %s\" % charge)"
      ]
    },
    {
      "cell_type": "markdown",
      "metadata": {
        "id": "7puSMv1KHMVl"
      },
      "source": [
        "But when we try to convert this column in to float data type it raises an error. That’s because this column has some blank cells. Let’s go a bit deep in to this rabbit hole"
      ]
    },
    {
      "cell_type": "markdown",
      "metadata": {
        "id": "bRpf6EJ3HMVm"
      },
      "source": [
        "Checking in this way it shows that 11 rows has a space as TotalCharge. What do we do for this? Let’s check what are the MonthlyCharge and Tenure when TotalCharge is a space/blank value"
      ]
    },
    {
      "cell_type": "code",
      "execution_count": null,
      "metadata": {
        "id": "UmxEOP3_HMVm"
      },
      "outputs": [],
      "source": [
        "for i in range(len(data)):\n",
        "  if data.TotalCharges[i] == \" \":\n",
        "      print(\"Tenure is %s and Monthly charges are %s\" % (data.tenure[i], data.MonthlyCharges[i]))"
      ]
    },
    {
      "cell_type": "markdown",
      "metadata": {
        "id": "--ckf-A9HMVm"
      },
      "source": [
        "So, it’s obvious that total charges are blank when tenure is 0 in other words they are pretty new and short timed customers. Since their tenure is zero it’s quite logical to think that their total charges as zero. Let’s replace space in TotalCharges to 0 and convert the column to float data type."
      ]
    },
    {
      "cell_type": "code",
      "execution_count": null,
      "metadata": {
        "id": "LuoTgT14HMVm"
      },
      "outputs": [],
      "source": [
        "data.TotalCharges.replace([\" \"], [\"0\"], inplace= True)\n",
        "data.TotalCharges = data.TotalCharges.astype(float)"
      ]
    },
    {
      "cell_type": "markdown",
      "metadata": {
        "id": "h3pASwiWHMVm"
      },
      "source": [
        "## Lets Drop Irrelevant features"
      ]
    },
    {
      "cell_type": "code",
      "execution_count": null,
      "metadata": {
        "id": "saRaoVAsHMVm"
      },
      "outputs": [],
      "source": [
        "data.drop(\"customerID\", axis= 1, inplace= True)"
      ]
    },
    {
      "cell_type": "code",
      "execution_count": null,
      "metadata": {
        "id": "0eS0KRhwHMVm"
      },
      "outputs": [],
      "source": [
        "for col in data.dtypes[data.dtypes == object].index:\n",
        "    print(col, data[col].unique())"
      ]
    },
    {
      "cell_type": "markdown",
      "metadata": {
        "id": "fs075g_1HMVm"
      },
      "source": [
        "Now we have 3 numerical columns and rest are categorical. In order to normalize the numerical columns let’s divide the values of each column by the max value of the relevant column. This will make sure all the values are between 0 - 1 thus, helping to reduce those values giving unwanted weighing on final model.\n",
        "\n",
        "Since our labels will be Churn and it has Yes, No values, let’s replace Yes with one and No with zero so our model will be a binary classification model."
      ]
    },
    {
      "cell_type": "code",
      "execution_count": null,
      "metadata": {
        "id": "gfxa3PoMHMVn"
      },
      "outputs": [],
      "source": [
        "data.Churn.replace([\"Yes\", \"No\"], [1, 0], inplace= True)"
      ]
    },
    {
      "cell_type": "markdown",
      "metadata": {
        "id": "xMUOV6CTHMVn"
      },
      "source": [
        "Next, we should encode all the categorical data in to one-hot encoding. Pandas have a quite easy way to do that:"
      ]
    },
    {
      "cell_type": "code",
      "execution_count": null,
      "metadata": {
        "id": "J58c9KqSHMVn"
      },
      "outputs": [],
      "source": [
        "data = pd.get_dummies(data)"
      ]
    },
    {
      "cell_type": "markdown",
      "metadata": {
        "id": "DLDdSi0XHMVn"
      },
      "source": [
        "## Select X and Y features"
      ]
    },
    {
      "cell_type": "code",
      "execution_count": null,
      "metadata": {
        "id": "McresGemHMVn"
      },
      "outputs": [],
      "source": [
        "X = data.drop(\"Churn\", axis= 1)\n",
        "y = data.Churn"
      ]
    },
    {
      "cell_type": "markdown",
      "metadata": {
        "id": "laVn0r6EHMVn"
      },
      "source": [
        "Inputs to the model will be X and it has all the columns except Churn which is our label thus, assign it to y. To train and test our model we should split our dataset. This split will create 20% of data for testing and 80% for training."
      ]
    },
    {
      "cell_type": "code",
      "execution_count": null,
      "metadata": {
        "id": "UDoDrMWCHMVn"
      },
      "outputs": [],
      "source": [
        "X_train, X_test, y_train, y_test = train_test_split(X, y, test_size= 0.2, random_state= 1234)"
      ]
    },
    {
      "cell_type": "code",
      "execution_count": null,
      "metadata": {
        "id": "L9g4D0yiHMVn"
      },
      "outputs": [],
      "source": [
        "model = Sequential()\n",
        "model.add(Dense(16, input_dim=X_train.shape[1], activation='relu'))\n",
        "model.add(Dense(8, activation='relu'))\n",
        "model.add(Dense(1, activation='sigmoid'))"
      ]
    },
    {
      "cell_type": "code",
      "execution_count": null,
      "metadata": {
        "id": "DhIy1qkVHMVn"
      },
      "outputs": [],
      "source": [
        "model.compile(loss='binary_crossentropy', optimizer='adam', metrics=['accuracy'])"
      ]
    },
    {
      "cell_type": "code",
      "execution_count": null,
      "metadata": {
        "id": "vTt9zRZsHMVo"
      },
      "outputs": [],
      "source": [
        "history = model.fit(X_train, \n",
        "                    y_train, \n",
        "                    epochs=150, \n",
        "                    batch_size=10\n",
        "                   validation_split=0.1)"
      ]
    },
    {
      "cell_type": "code",
      "execution_count": null,
      "metadata": {
        "id": "6rNMt2T7HMVo"
      },
      "outputs": [],
      "source": [
        "plt.plot(history.history['loss'])\n",
        "plt.title('model loss')\n",
        "plt.ylabel('loss')\n",
        "plt.xlabel('epochs')\n",
        "plt.legend(['train'], loc='upper left')\n",
        "plt.show()"
      ]
    },
    {
      "cell_type": "code",
      "execution_count": null,
      "metadata": {
        "id": "FCK_VGiiHMVo"
      },
      "outputs": [],
      "source": [
        "plt.plot(history.history['acc'])\n",
        "plt.title('model accuracy')\n",
        "plt.ylabel('accuracy')\n",
        "plt.xlabel('epochs')\n",
        "plt.legend(['train'], loc='upper left')\n",
        "plt.show()"
      ]
    },
    {
      "cell_type": "markdown",
      "metadata": {
        "id": "I27ldxseHMVo"
      },
      "source": [
        "## Evaluate the model"
      ]
    },
    {
      "cell_type": "code",
      "execution_count": null,
      "metadata": {
        "id": "_WgcnDRBHMVo"
      },
      "outputs": [],
      "source": [
        "model.evaluate(X_train, y_train)"
      ]
    },
    {
      "cell_type": "code",
      "execution_count": null,
      "metadata": {
        "id": "Lg-SCJldHMVo"
      },
      "outputs": [],
      "source": [
        "model.evaluate(X_test, y_test)"
      ]
    },
    {
      "cell_type": "code",
      "execution_count": null,
      "metadata": {
        "id": "3FRNcvhFHMVo"
      },
      "outputs": [],
      "source": []
    }
  ],
  "metadata": {
    "kernelspec": {
      "display_name": "Python 3",
      "language": "python",
      "name": "python3"
    },
    "language_info": {
      "codemirror_mode": {
        "name": "ipython",
        "version": 3
      },
      "file_extension": ".py",
      "mimetype": "text/x-python",
      "name": "python",
      "nbconvert_exporter": "python",
      "pygments_lexer": "ipython3",
      "version": "3.6.8"
    },
    "colab": {
      "provenance": []
    }
  },
  "nbformat": 4,
  "nbformat_minor": 0
}